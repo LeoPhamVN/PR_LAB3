{
 "cells": [
  {
   "cell_type": "code",
   "execution_count": 60,
   "metadata": {},
   "outputs": [
    {
     "name": "stdout",
     "output_type": "stream",
     "text": [
      "[array([[-40],\n",
      "       [  5]]), array([[-5],\n",
      "       [40]]), array([[-5],\n",
      "       [25]]), array([[-3],\n",
      "       [50]]), array([[-20],\n",
      "       [  3]]), array([[ 40],\n",
      "       [-40]])]\n",
      "[[-40.   5. -40.   5. -40.   5. -40.   5. -40.   5. -40.   5.]]\n"
     ]
    }
   ],
   "source": [
    "import numpy as np\n",
    "\n",
    "x0 = np.zeros((3,1))                            # initial guess\n",
    "P0 = np.diag([2**2, 2**2, np.deg2rad(20)**2])   # Initial uncertainty\n",
    "n_particles = 5\n",
    "\n",
    "#create array of n_particles particles distributed randomly around x0 with covariance P\n",
    "particles = np.zeros((n_particles,3))\n",
    "for index in range(n_particles):\n",
    "    particles[index,:] = x0.T + np.random.normal(0.0, np.diag(P0))\n",
    "\n",
    "a = particles[1,:]\n",
    "\n",
    "M = [np.array([[-40, 5]]).T,\n",
    "           np.array([[-5, 40]]).T,\n",
    "           np.array([[-5, 25]]).T,\n",
    "           np.array([[-3, 50]]).T,\n",
    "           np.array([[-20, 3]]).T,\n",
    "           np.array([[40,-40]]).T] \n",
    "\n",
    "a = np.array([[-40, 5]]).reshape((2,1))\n",
    "\n",
    "print(M)\n",
    "b = []\n",
    "A = np.array([[],[]])\n",
    "for i in range(len(M)):\n",
    "    A = np.append(A, a)\n",
    "A = A.reshape((1,-1))\n",
    "print(A)"
   ]
  },
  {
   "cell_type": "code",
   "execution_count": 69,
   "metadata": {},
   "outputs": [
    {
     "ename": "AxisError",
     "evalue": "axis 1 is out of bounds for array of dimension 1",
     "output_type": "error",
     "traceback": [
      "\u001b[0;31m---------------------------------------------------------------------------\u001b[0m",
      "\u001b[0;31mAxisError\u001b[0m                                 Traceback (most recent call last)",
      "\u001b[1;32m/home/leopham/Documents/2.ProbabilisticRobotics/2.Labs/4. Lab_4/1. SourceCode/PR_LAB3/test.ipynb Cell 2\u001b[0m line \u001b[0;36m2\n\u001b[1;32m     <a href='vscode-notebook-cell:/home/leopham/Documents/2.ProbabilisticRobotics/2.Labs/4.%20Lab_4/1.%20SourceCode/PR_LAB3/test.ipynb#W1sZmlsZQ%3D%3D?line=22'>23</a>\u001b[0m x \u001b[39m=\u001b[39m np\u001b[39m.\u001b[39mma\u001b[39m.\u001b[39marray([\u001b[39m1\u001b[39m,\u001b[39m1\u001b[39m,\u001b[39m1\u001b[39m])\u001b[39m.\u001b[39mT\n\u001b[1;32m     <a href='vscode-notebook-cell:/home/leopham/Documents/2.ProbabilisticRobotics/2.Labs/4.%20Lab_4/1.%20SourceCode/PR_LAB3/test.ipynb#W1sZmlsZQ%3D%3D?line=23'>24</a>\u001b[0m y \u001b[39m=\u001b[39m np\u001b[39m.\u001b[39mma\u001b[39m.\u001b[39marray([\u001b[39m4\u001b[39m,\u001b[39m3\u001b[39m,\u001b[39m2\u001b[39m])\u001b[39m.\u001b[39mT\n\u001b[0;32m---> <a href='vscode-notebook-cell:/home/leopham/Documents/2.ProbabilisticRobotics/2.Labs/4.%20Lab_4/1.%20SourceCode/PR_LAB3/test.ipynb#W1sZmlsZQ%3D%3D?line=24'>25</a>\u001b[0m a \u001b[39m=\u001b[39m squared_error(x,y)\n",
      "\u001b[1;32m/home/leopham/Documents/2.ProbabilisticRobotics/2.Labs/4. Lab_4/1. SourceCode/PR_LAB3/test.ipynb Cell 2\u001b[0m line \u001b[0;36m2\n\u001b[1;32m      <a href='vscode-notebook-cell:/home/leopham/Documents/2.ProbabilisticRobotics/2.Labs/4.%20Lab_4/1.%20SourceCode/PR_LAB3/test.ipynb#W1sZmlsZQ%3D%3D?line=1'>2</a>\u001b[0m \u001b[39m\u001b[39m\u001b[39m\"\"\"\u001b[39;00m\n\u001b[1;32m      <a href='vscode-notebook-cell:/home/leopham/Documents/2.ProbabilisticRobotics/2.Labs/4.%20Lab_4/1.%20SourceCode/PR_LAB3/test.ipynb#W1sZmlsZQ%3D%3D?line=2'>3</a>\u001b[0m \u001b[39mRBF kernel, supporting masked values in the observation\u001b[39;00m\n\u001b[1;32m      <a href='vscode-notebook-cell:/home/leopham/Documents/2.ProbabilisticRobotics/2.Labs/4.%20Lab_4/1.%20SourceCode/PR_LAB3/test.ipynb#W1sZmlsZQ%3D%3D?line=3'>4</a>\u001b[0m \u001b[39mParameters:\u001b[39;00m\n\u001b[0;32m   (...)\u001b[0m\n\u001b[1;32m     <a href='vscode-notebook-cell:/home/leopham/Documents/2.ProbabilisticRobotics/2.Labs/4.%20Lab_4/1.%20SourceCode/PR_LAB3/test.ipynb#W1sZmlsZQ%3D%3D?line=16'>17</a>\u001b[0m \u001b[39m    summed over all samples. Supports masked arrays.\u001b[39;00m\n\u001b[1;32m     <a href='vscode-notebook-cell:/home/leopham/Documents/2.ProbabilisticRobotics/2.Labs/4.%20Lab_4/1.%20SourceCode/PR_LAB3/test.ipynb#W1sZmlsZQ%3D%3D?line=17'>18</a>\u001b[0m \u001b[39m\"\"\"\u001b[39;00m\n\u001b[1;32m     <a href='vscode-notebook-cell:/home/leopham/Documents/2.ProbabilisticRobotics/2.Labs/4.%20Lab_4/1.%20SourceCode/PR_LAB3/test.ipynb#W1sZmlsZQ%3D%3D?line=18'>19</a>\u001b[0m dx \u001b[39m=\u001b[39m (x \u001b[39m-\u001b[39m y) \u001b[39m*\u001b[39m\u001b[39m*\u001b[39m \u001b[39m2\u001b[39m\n\u001b[0;32m---> <a href='vscode-notebook-cell:/home/leopham/Documents/2.ProbabilisticRobotics/2.Labs/4.%20Lab_4/1.%20SourceCode/PR_LAB3/test.ipynb#W1sZmlsZQ%3D%3D?line=19'>20</a>\u001b[0m d \u001b[39m=\u001b[39m np\u001b[39m.\u001b[39;49mma\u001b[39m.\u001b[39;49msum(dx, axis\u001b[39m=\u001b[39;49m\u001b[39m1\u001b[39;49m)\n\u001b[1;32m     <a href='vscode-notebook-cell:/home/leopham/Documents/2.ProbabilisticRobotics/2.Labs/4.%20Lab_4/1.%20SourceCode/PR_LAB3/test.ipynb#W1sZmlsZQ%3D%3D?line=20'>21</a>\u001b[0m \u001b[39mreturn\u001b[39;00m np\u001b[39m.\u001b[39mexp(\u001b[39m-\u001b[39md \u001b[39m/\u001b[39m (\u001b[39m2.0\u001b[39m \u001b[39m*\u001b[39m sigma\u001b[39m*\u001b[39m\u001b[39m*\u001b[39m\u001b[39m2\u001b[39m))\n",
      "File \u001b[0;32m~/.local/lib/python3.10/site-packages/numpy/ma/core.py:6882\u001b[0m, in \u001b[0;36m_frommethod.__call__\u001b[0;34m(self, a, *args, **params)\u001b[0m\n\u001b[1;32m   6878\u001b[0m \u001b[39mif\u001b[39;00m method \u001b[39mis\u001b[39;00m \u001b[39mNone\u001b[39;00m:\n\u001b[1;32m   6879\u001b[0m     \u001b[39m# use the corresponding np function\u001b[39;00m\n\u001b[1;32m   6880\u001b[0m     method \u001b[39m=\u001b[39m \u001b[39mgetattr\u001b[39m(np, method_name)\n\u001b[0;32m-> 6882\u001b[0m \u001b[39mreturn\u001b[39;00m method(marr, \u001b[39m*\u001b[39;49margs, \u001b[39m*\u001b[39;49m\u001b[39m*\u001b[39;49mparams)\n",
      "File \u001b[0;32m~/.local/lib/python3.10/site-packages/numpy/ma/core.py:5175\u001b[0m, in \u001b[0;36mMaskedArray.sum\u001b[0;34m(self, axis, dtype, out, keepdims)\u001b[0m\n\u001b[1;32m   5173\u001b[0m \u001b[39m# No explicit output\u001b[39;00m\n\u001b[1;32m   5174\u001b[0m \u001b[39mif\u001b[39;00m out \u001b[39mis\u001b[39;00m \u001b[39mNone\u001b[39;00m:\n\u001b[0;32m-> 5175\u001b[0m     result \u001b[39m=\u001b[39m \u001b[39mself\u001b[39;49m\u001b[39m.\u001b[39;49mfilled(\u001b[39m0\u001b[39;49m)\u001b[39m.\u001b[39;49msum(axis, dtype\u001b[39m=\u001b[39;49mdtype, \u001b[39m*\u001b[39;49m\u001b[39m*\u001b[39;49mkwargs)\n\u001b[1;32m   5176\u001b[0m     rndim \u001b[39m=\u001b[39m \u001b[39mgetattr\u001b[39m(result, \u001b[39m'\u001b[39m\u001b[39mndim\u001b[39m\u001b[39m'\u001b[39m, \u001b[39m0\u001b[39m)\n\u001b[1;32m   5177\u001b[0m     \u001b[39mif\u001b[39;00m rndim:\n",
      "File \u001b[0;32m~/.local/lib/python3.10/site-packages/numpy/core/_methods.py:49\u001b[0m, in \u001b[0;36m_sum\u001b[0;34m(a, axis, dtype, out, keepdims, initial, where)\u001b[0m\n\u001b[1;32m     47\u001b[0m \u001b[39mdef\u001b[39;00m \u001b[39m_sum\u001b[39m(a, axis\u001b[39m=\u001b[39m\u001b[39mNone\u001b[39;00m, dtype\u001b[39m=\u001b[39m\u001b[39mNone\u001b[39;00m, out\u001b[39m=\u001b[39m\u001b[39mNone\u001b[39;00m, keepdims\u001b[39m=\u001b[39m\u001b[39mFalse\u001b[39;00m,\n\u001b[1;32m     48\u001b[0m          initial\u001b[39m=\u001b[39m_NoValue, where\u001b[39m=\u001b[39m\u001b[39mTrue\u001b[39;00m):\n\u001b[0;32m---> 49\u001b[0m     \u001b[39mreturn\u001b[39;00m umr_sum(a, axis, dtype, out, keepdims, initial, where)\n",
      "\u001b[0;31mAxisError\u001b[0m: axis 1 is out of bounds for array of dimension 1"
     ]
    }
   ],
   "source": [
    "def squared_error(x, y, sigma=1):\n",
    "    \"\"\"\n",
    "    RBF kernel, supporting masked values in the observation\n",
    "    Parameters:\n",
    "    -----------\n",
    "    x : array (N,D) array of values\n",
    "    y : array (N,D) array of values\n",
    "\n",
    "    Returns:\n",
    "    -------\n",
    "\n",
    "    distance : scalar\n",
    "        Total similarity, using equation:\n",
    "\n",
    "            d(x,y) = e^((-1 * (x - y) ** 2) / (2 * sigma ** 2))\n",
    "\n",
    "        summed over all samples. Supports masked arrays.\n",
    "    \"\"\"\n",
    "    dx = (x - y) ** 2\n",
    "    d = np.ma.sum(dx, axis=1)\n",
    "    t = np.exp(-d / (2.0 * sigma**2))\n",
    "    return t\n",
    "\n",
    "x = np.ma.array([1,1,1]).T\n",
    "y = np.ma.array([4,3,2]).T\n",
    "a = squared_error(x,y)"
   ]
  }
 ],
 "metadata": {
  "kernelspec": {
   "display_name": "Python 3",
   "language": "python",
   "name": "python3"
  },
  "language_info": {
   "codemirror_mode": {
    "name": "ipython",
    "version": 3
   },
   "file_extension": ".py",
   "mimetype": "text/x-python",
   "name": "python",
   "nbconvert_exporter": "python",
   "pygments_lexer": "ipython3",
   "version": "3.10.12"
  }
 },
 "nbformat": 4,
 "nbformat_minor": 2
}
