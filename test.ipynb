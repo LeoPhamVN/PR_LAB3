{
 "cells": [
  {
   "cell_type": "code",
   "execution_count": 13,
   "metadata": {},
   "outputs": [
    {
     "name": "stdout",
     "output_type": "stream",
     "text": [
      "[[-5. 25.]]\n"
     ]
    }
   ],
   "source": [
    "import numpy as np\n",
    "\n",
    "x0 = np.zeros((3,1))                            # initial guess\n",
    "P0 = np.diag([2**2, 2**2, np.deg2rad(20)**2])   # Initial uncertainty\n",
    "n_particles = 5\n",
    "\n",
    "#create array of n_particles particles distributed randomly around x0 with covariance P\n",
    "particles = np.zeros((n_particles,3))\n",
    "for index in range(n_particles):\n",
    "    particles[index,:] = x0.T + np.random.normal(0.0, np.diag(P0))\n",
    "\n",
    "a = particles[1,:]\n",
    "\n",
    "M = [np.array([[-40, 5]]).T,\n",
    "           np.array([[-5, 40]]).T,\n",
    "           np.array([[-5, 25]]).T,\n",
    "           np.array([[-3, 50]]).T,\n",
    "           np.array([[-20, 3]]).T,\n",
    "           np.array([[40,-40]]).T] \n",
    "\n",
    "a = np.array([[-40, 5]]).reshape((2,1))\n",
    "\n",
    "# print(M[2])\n",
    "b = []\n",
    "A = np.array([[],[]])\n",
    "for i in range(len(M)):\n",
    "    A = np.append(A, a)\n",
    "A = A.reshape((1,-1))\n",
    "# print(A)\n",
    "\n",
    "particles = np.zeros((n_particles,3))\n",
    "\n",
    "a = M[2].T - particles[2,:2]\n",
    "b = np.linalg.norm(a)\n",
    "print(a)"
   ]
  },
  {
   "cell_type": "code",
   "execution_count": 75,
   "metadata": {},
   "outputs": [],
   "source": [
    "def squared_error(x, y, sigma=1):\n",
    "    \"\"\"\n",
    "    RBF kernel, supporting masked values in the observation\n",
    "    Parameters:\n",
    "    -----------\n",
    "    x : array (N,D) array of values\n",
    "    y : array (N,D) array of values\n",
    "\n",
    "    Returns:\n",
    "    -------\n",
    "\n",
    "    distance : scalar\n",
    "        Total similarity, using equation:\n",
    "\n",
    "            d(x,y) = e^((-1 * (x - y) ** 2) / (2 * sigma ** 2))\n",
    "\n",
    "        summed over all samples. Supports masked arrays.\n",
    "    \"\"\"\n",
    "    dx = (x - y) ** 2\n",
    "    d = np.sum(dx, axis=0)\n",
    "    t = np.exp(-d / (2.0 * sigma**2))\n",
    "    return t\n",
    "\n",
    "x = np.ma.array([1,1,1]).T\n",
    "y = np.ma.array([4,3,2]).T\n",
    "a = squared_error(x,y)"
   ]
  }
 ],
 "metadata": {
  "kernelspec": {
   "display_name": "Python 3",
   "language": "python",
   "name": "python3"
  },
  "language_info": {
   "codemirror_mode": {
    "name": "ipython",
    "version": 3
   },
   "file_extension": ".py",
   "mimetype": "text/x-python",
   "name": "python",
   "nbconvert_exporter": "python",
   "pygments_lexer": "ipython3",
   "version": "3.10.12"
  }
 },
 "nbformat": 4,
 "nbformat_minor": 2
}
